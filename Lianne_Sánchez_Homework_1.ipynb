{
  "nbformat": 4,
  "nbformat_minor": 0,
  "metadata": {
    "colab": {
      "name": "Lianne Sánchez - Homework_1.ipynb",
      "version": "0.3.2",
      "provenance": [],
      "collapsed_sections": [],
      "include_colab_link": true
    },
    "kernelspec": {
      "name": "python3",
      "display_name": "Python 3"
    }
  },
  "cells": [
    {
      "cell_type": "markdown",
      "metadata": {
        "id": "view-in-github",
        "colab_type": "text"
      },
      "source": [
        "[View in Colaboratory](https://colab.research.google.com/github/liannesr/Homework-1-Machine-Learning/blob/master/Lianne_S%C3%A1nchez_Homework_1.ipynb)"
      ]
    },
    {
      "metadata": {
        "id": "FBdLNCcIapCa",
        "colab_type": "text"
      },
      "cell_type": "markdown",
      "source": [
        "## Homework 1 (TensorFlow tutorial)\n",
        "\n",
        "In this homework, you'll get a brief tutorial as to how TensorFlow works \"behind the scenes\". Then, you'll put together some of the pieces you learned to train a very simple model."
      ]
    },
    {
      "metadata": {
        "id": "jD3jzan8akEV",
        "colab_type": "code",
        "colab": {}
      },
      "cell_type": "code",
      "source": [
        "import tensorflow as tf\n",
        "import numpy as np\n",
        "import matplotlib.pyplot as plt\n",
        "%matplotlib inline"
      ],
      "execution_count": 0,
      "outputs": []
    },
    {
      "metadata": {
        "id": "N2cSjafPcBFW",
        "colab_type": "text"
      },
      "cell_type": "markdown",
      "source": [
        "### How TensorFlow works (and why)\n",
        "\n",
        "\n",
        "TensorFlow is a framework which allows you to easily construct computational graphs. The graphs can then easily be compiled to run different architectures (for example, your laptop's CPU, or a Graphics Proessing Unit, or a Tensor Processing Unit). When you write TensorFlow code in Python, you are building up a computational graph which *describes the computation you want to do*. It won't actually run the computation until you tell it to. This allows it to perform different optimizations, transparently compile to different architectures, and do handy things like compute gradients easily. Once you build a graph in TensorFlow, you'll actually do computation by running things in a \"session\". So, to start, let's create a new graph and a new session."
      ]
    },
    {
      "metadata": {
        "id": "BfppOyKScDL3",
        "colab_type": "code",
        "colab": {}
      },
      "cell_type": "code",
      "source": [
        "# Reset the current TensorFlow graph\n",
        "tf.reset_default_graph()\n",
        "# Create a new TensorFlow session\n",
        "sess = tf.InteractiveSession()"
      ],
      "execution_count": 0,
      "outputs": []
    },
    {
      "metadata": {
        "id": "nJqgGONGdXfW",
        "colab_type": "text"
      },
      "cell_type": "markdown",
      "source": [
        "Now, let's start building up our computational graph. The graph will be made up of ops, which is short for operations. When run, the operations will carry out a specific computation. First, let's create a simple kind of operation: One which just holds a constant value. Whenever this operation is run, it will spit it the same (constant) value."
      ]
    },
    {
      "metadata": {
        "id": "FjCGlYQzdXDV",
        "colab_type": "code",
        "colab": {
          "base_uri": "https://localhost:8080/",
          "height": 34
        },
        "outputId": "b85e00e4-2aa0-49c7-b40e-09e195f3984e"
      },
      "cell_type": "code",
      "source": [
        "# Create a constant op called 'a' whose value is always 10\n",
        "a = tf.constant(10.)\n",
        "# Now let's look at the op\n",
        "print (a)"
      ],
      "execution_count": 4,
      "outputs": [
        {
          "output_type": "stream",
          "text": [
            "Tensor(\"Const:0\", shape=(), dtype=float32)\n"
          ],
          "name": "stdout"
        }
      ]
    },
    {
      "metadata": {
        "id": "oCFiBzJOdyuQ",
        "colab_type": "text"
      },
      "cell_type": "markdown",
      "source": [
        "Note that when we printed out the op, it didn't tell us the value was 10! It just told us it has the name \"Const:0\", it has a shape of `()`, and it has a `float32` dtype. The name is just for convenience and is created automatically. A shape of `()` means that it's a scalar, that is, a single value (if it's not clear to you why this is true, don't worry about it, we will only really be working with scalars in this tutorial). Finally, the dtype is like a normal type you'd see in programming; a `float32` dtype means it's a 32-bit float.\n",
        "\n",
        "To actually get the value of this op, we need to run it. Here's how we do that."
      ]
    },
    {
      "metadata": {
        "id": "x3m0JRAVebYT",
        "colab_type": "code",
        "colab": {
          "base_uri": "https://localhost:8080/",
          "height": 34
        },
        "outputId": "9d96f4ea-cc9e-44ed-9d01-4e82ce94637e"
      },
      "cell_type": "code",
      "source": [
        "print (sess.run(a))"
      ],
      "execution_count": 6,
      "outputs": [
        {
          "output_type": "stream",
          "text": [
            "10.0\n"
          ],
          "name": "stdout"
        }
      ]
    },
    {
      "metadata": {
        "id": "Ch2Y-EPBefJr",
        "colab_type": "text"
      },
      "cell_type": "markdown",
      "source": [
        "Let's build up our graph some more. We can create a new op in our graph which depends on `a` like so:"
      ]
    },
    {
      "metadata": {
        "id": "tEbhb9qWeera",
        "colab_type": "code",
        "colab": {
          "base_uri": "https://localhost:8080/",
          "height": 34
        },
        "outputId": "e6e93071-c118-4dac-d0b3-47d92f6f152d"
      },
      "cell_type": "code",
      "source": [
        "# Set b to the value of a, squared\n",
        "b = a**2\n",
        "# Let's see what b is.\n",
        "print (b)"
      ],
      "execution_count": 7,
      "outputs": [
        {
          "output_type": "stream",
          "text": [
            "Tensor(\"pow:0\", shape=(), dtype=float32)\n"
          ],
          "name": "stdout"
        }
      ]
    },
    {
      "metadata": {
        "id": "sD5eqKiMe15r",
        "colab_type": "text"
      },
      "cell_type": "markdown",
      "source": [
        "Note, again, that printing b doesn't give us the actual value of `a` squared. It just tells us it's created a new op. This op has been given the name `pow_1:0` since it's the result of a power operation, that is, raising to the *power* of 2. It has the same shape and dtype as a. Let's run it and see what happens."
      ]
    },
    {
      "metadata": {
        "id": "_0B_H3Wde1nt",
        "colab_type": "code",
        "colab": {
          "base_uri": "https://localhost:8080/",
          "height": 34
        },
        "outputId": "8f99a166-6144-4cb8-fac7-da0acd9119d9"
      },
      "cell_type": "code",
      "source": [
        "print (sess.run(b))"
      ],
      "execution_count": 9,
      "outputs": [
        {
          "output_type": "stream",
          "text": [
            "100.0\n"
          ],
          "name": "stdout"
        }
      ]
    },
    {
      "metadata": {
        "id": "8jlYMp-ufJjG",
        "colab_type": "text"
      },
      "cell_type": "markdown",
      "source": [
        "Now we're computing stuff! We can compute all kinds of things with TensorFlow - everything you'd need to build up a machine learning model and more. Let's make our graph a little bigger."
      ]
    },
    {
      "metadata": {
        "id": "gMxO8PnGfJMK",
        "colab_type": "code",
        "colab": {
          "base_uri": "https://localhost:8080/",
          "height": 34
        },
        "outputId": "95281def-db83-4a4a-aab8-d9b14f58b531"
      },
      "cell_type": "code",
      "source": [
        "# Add a few more ops\n",
        "c = 3*b + 2\n",
        "print (c)"
      ],
      "execution_count": 10,
      "outputs": [
        {
          "output_type": "stream",
          "text": [
            "Tensor(\"add:0\", shape=(), dtype=float32)\n"
          ],
          "name": "stdout"
        }
      ]
    },
    {
      "metadata": {
        "id": "pnJ7KAriff8V",
        "colab_type": "text"
      },
      "cell_type": "markdown",
      "source": [
        "Notice that c is given the name `add:0`. What happened to the `3*b` part? Well, that multiplication *did* create a new op, but we didn't assign it to a Python variable, so we lost reference to it. You may have noticed this before, but when we do something like `b = a**2`, `b` doesn't represent the value of `a**2`, it is a *reference* to the op that computes b. So in other words, the Python variable `b` gives us a reference to the op; it doesn't compute the value of the op. So, we can't compute the result of `3*b` using `c`, we can only compute `3*b + 2`. We could have done something like this instead:\n",
        "```\n",
        "c = 3*b\n",
        "d = c + 2\n",
        "```\n",
        "The way we wrote it assumes that we will never need to compute `3*b`, just `3*b + 2`.\n",
        "\n",
        "Let's visualize what our graph looks like now:\n",
        "\n",
        "![graph](https://i.imgur.com/lIbZvE5.png)\n",
        "\n",
        "This is a visualization made by a tool called TensorBoard, which we won't cover here. The graph starts from the bottom and goes up. On the bottom, we see our \"constant\" op `Const_1` which, if you remember from above, is our value of 10. Then, we raise it to a power using the `pow_1` op. It's being raised to the power of `y`. Note that TensorFlow isn't telling us the values of `Const_1` or `y`, even though we know they are constant and are 10 and 2 respectively. Then, the result is passed into the `mul` op, being multiplied by a new constant value `x`. Finally, the result is passed to the `add` op where another `y` is added. So, this is our computational graph!\n",
        "\n",
        "When we do `sess.run(c)`, we will be asking TensorFlow to give us the value of the `add` op at the top of the graph. To do so, it will traverse down the graph, calculating intermediate values as it goes."
      ]
    },
    {
      "metadata": {
        "id": "gTl4bHHGiR3i",
        "colab_type": "code",
        "colab": {
          "base_uri": "https://localhost:8080/",
          "height": 34
        },
        "outputId": "04bb81a5-500f-4df8-ba57-406af34c3528"
      },
      "cell_type": "code",
      "source": [
        "print (sess.run(c))"
      ],
      "execution_count": 11,
      "outputs": [
        {
          "output_type": "stream",
          "text": [
            "302.0\n"
          ],
          "name": "stdout"
        }
      ]
    },
    {
      "metadata": {
        "id": "VBdGGoGujEfY",
        "colab_type": "text"
      },
      "cell_type": "markdown",
      "source": [
        "So far, we have encountered two kinds of ops: Ops that just give a constant value, or ops that perform some kind of operation on their inputs (like multiplying or adding them). The constant ops take on a specific value, and can never change their value. Sometimes, it's useful to have things in our graph to have a value, but to allow the value to change. TensorFlow does this with \"Variables\". Let's create a variable."
      ]
    },
    {
      "metadata": {
        "id": "Of2Y4aYfmduR",
        "colab_type": "code",
        "colab": {
          "base_uri": "https://localhost:8080/",
          "height": 34
        },
        "outputId": "f25dba63-9fd9-4b3f-edc1-1f18c1855286"
      },
      "cell_type": "code",
      "source": [
        "# Create a variable called x\n",
        "x = tf.get_variable(name='var', shape=(), dtype=tf.float32)\n",
        "print (x)"
      ],
      "execution_count": 12,
      "outputs": [
        {
          "output_type": "stream",
          "text": [
            "<tf.Variable 'var:0' shape=() dtype=float32_ref>\n"
          ],
          "name": "stdout"
        }
      ]
    },
    {
      "metadata": {
        "id": "DwBdOJ8fm_NJ",
        "colab_type": "text"
      },
      "cell_type": "markdown",
      "source": [
        "There were some funny things about creating this variable.\n",
        "1. We assigned it to the Python variable `x`. This means that the Python variable `x` is a reference to the TensorFlow variable called `var`. These are two different things! `var` is a variable in the TensorFlow graph. `x` is just a reference to that variable in Python so that we can access it from Python. Weird!\n",
        "1. We didn't tell TensorFlow what value the Variable should take. TensorFlow actually has a default way that it sets the initial value of Variables - it chooses them randomly, in a sensible way! We're letting TensorFlow choose the initial value randomly. Since we didn't give TensorFlow an explicit value, we had to at least tell it what shape the variable was (again `()` for a scalar) and what data type it is.\n",
        "\n",
        "Let's try running this variable to get its value."
      ]
    },
    {
      "metadata": {
        "id": "MPXleCnGoREY",
        "colab_type": "code",
        "colab": {
          "base_uri": "https://localhost:8080/",
          "height": 1014
        },
        "outputId": "727ad5ae-43fe-4ba2-eda1-24c0f50635af"
      },
      "cell_type": "code",
      "source": [
        "sess.run(x)"
      ],
      "execution_count": 13,
      "outputs": [
        {
          "output_type": "error",
          "ename": "FailedPreconditionError",
          "evalue": "ignored",
          "traceback": [
            "\u001b[0;31m---------------------------------------------------------------------------\u001b[0m",
            "\u001b[0;31mFailedPreconditionError\u001b[0m                   Traceback (most recent call last)",
            "\u001b[0;32m/usr/local/lib/python3.6/dist-packages/tensorflow/python/client/session.py\u001b[0m in \u001b[0;36m_do_call\u001b[0;34m(self, fn, *args)\u001b[0m\n\u001b[1;32m   1291\u001b[0m     \u001b[0;32mtry\u001b[0m\u001b[0;34m:\u001b[0m\u001b[0;34m\u001b[0m\u001b[0m\n\u001b[0;32m-> 1292\u001b[0;31m       \u001b[0;32mreturn\u001b[0m \u001b[0mfn\u001b[0m\u001b[0;34m(\u001b[0m\u001b[0;34m*\u001b[0m\u001b[0margs\u001b[0m\u001b[0;34m)\u001b[0m\u001b[0;34m\u001b[0m\u001b[0m\n\u001b[0m\u001b[1;32m   1293\u001b[0m     \u001b[0;32mexcept\u001b[0m \u001b[0merrors\u001b[0m\u001b[0;34m.\u001b[0m\u001b[0mOpError\u001b[0m \u001b[0;32mas\u001b[0m \u001b[0me\u001b[0m\u001b[0;34m:\u001b[0m\u001b[0;34m\u001b[0m\u001b[0m\n",
            "\u001b[0;32m/usr/local/lib/python3.6/dist-packages/tensorflow/python/client/session.py\u001b[0m in \u001b[0;36m_run_fn\u001b[0;34m(feed_dict, fetch_list, target_list, options, run_metadata)\u001b[0m\n\u001b[1;32m   1276\u001b[0m       return self._call_tf_sessionrun(\n\u001b[0;32m-> 1277\u001b[0;31m           options, feed_dict, fetch_list, target_list, run_metadata)\n\u001b[0m\u001b[1;32m   1278\u001b[0m \u001b[0;34m\u001b[0m\u001b[0m\n",
            "\u001b[0;32m/usr/local/lib/python3.6/dist-packages/tensorflow/python/client/session.py\u001b[0m in \u001b[0;36m_call_tf_sessionrun\u001b[0;34m(self, options, feed_dict, fetch_list, target_list, run_metadata)\u001b[0m\n\u001b[1;32m   1366\u001b[0m         \u001b[0mself\u001b[0m\u001b[0;34m.\u001b[0m\u001b[0m_session\u001b[0m\u001b[0;34m,\u001b[0m \u001b[0moptions\u001b[0m\u001b[0;34m,\u001b[0m \u001b[0mfeed_dict\u001b[0m\u001b[0;34m,\u001b[0m \u001b[0mfetch_list\u001b[0m\u001b[0;34m,\u001b[0m \u001b[0mtarget_list\u001b[0m\u001b[0;34m,\u001b[0m\u001b[0;34m\u001b[0m\u001b[0m\n\u001b[0;32m-> 1367\u001b[0;31m         run_metadata)\n\u001b[0m\u001b[1;32m   1368\u001b[0m \u001b[0;34m\u001b[0m\u001b[0m\n",
            "\u001b[0;31mFailedPreconditionError\u001b[0m: Attempting to use uninitialized value var\n\t [[{{node _retval_var_0_0}} = _Retval[T=DT_FLOAT, index=0, _device=\"/job:localhost/replica:0/task:0/device:CPU:0\"](var)]]",
            "\nDuring handling of the above exception, another exception occurred:\n",
            "\u001b[0;31mFailedPreconditionError\u001b[0m                   Traceback (most recent call last)",
            "\u001b[0;32m<ipython-input-13-450dad72c06f>\u001b[0m in \u001b[0;36m<module>\u001b[0;34m()\u001b[0m\n\u001b[0;32m----> 1\u001b[0;31m \u001b[0msess\u001b[0m\u001b[0;34m.\u001b[0m\u001b[0mrun\u001b[0m\u001b[0;34m(\u001b[0m\u001b[0mx\u001b[0m\u001b[0;34m)\u001b[0m\u001b[0;34m\u001b[0m\u001b[0m\n\u001b[0m",
            "\u001b[0;32m/usr/local/lib/python3.6/dist-packages/tensorflow/python/client/session.py\u001b[0m in \u001b[0;36mrun\u001b[0;34m(self, fetches, feed_dict, options, run_metadata)\u001b[0m\n\u001b[1;32m    885\u001b[0m     \u001b[0;32mtry\u001b[0m\u001b[0;34m:\u001b[0m\u001b[0;34m\u001b[0m\u001b[0m\n\u001b[1;32m    886\u001b[0m       result = self._run(None, fetches, feed_dict, options_ptr,\n\u001b[0;32m--> 887\u001b[0;31m                          run_metadata_ptr)\n\u001b[0m\u001b[1;32m    888\u001b[0m       \u001b[0;32mif\u001b[0m \u001b[0mrun_metadata\u001b[0m\u001b[0;34m:\u001b[0m\u001b[0;34m\u001b[0m\u001b[0m\n\u001b[1;32m    889\u001b[0m         \u001b[0mproto_data\u001b[0m \u001b[0;34m=\u001b[0m \u001b[0mtf_session\u001b[0m\u001b[0;34m.\u001b[0m\u001b[0mTF_GetBuffer\u001b[0m\u001b[0;34m(\u001b[0m\u001b[0mrun_metadata_ptr\u001b[0m\u001b[0;34m)\u001b[0m\u001b[0;34m\u001b[0m\u001b[0m\n",
            "\u001b[0;32m/usr/local/lib/python3.6/dist-packages/tensorflow/python/client/session.py\u001b[0m in \u001b[0;36m_run\u001b[0;34m(self, handle, fetches, feed_dict, options, run_metadata)\u001b[0m\n\u001b[1;32m   1108\u001b[0m     \u001b[0;32mif\u001b[0m \u001b[0mfinal_fetches\u001b[0m \u001b[0;32mor\u001b[0m \u001b[0mfinal_targets\u001b[0m \u001b[0;32mor\u001b[0m \u001b[0;34m(\u001b[0m\u001b[0mhandle\u001b[0m \u001b[0;32mand\u001b[0m \u001b[0mfeed_dict_tensor\u001b[0m\u001b[0;34m)\u001b[0m\u001b[0;34m:\u001b[0m\u001b[0;34m\u001b[0m\u001b[0m\n\u001b[1;32m   1109\u001b[0m       results = self._do_run(handle, final_targets, final_fetches,\n\u001b[0;32m-> 1110\u001b[0;31m                              feed_dict_tensor, options, run_metadata)\n\u001b[0m\u001b[1;32m   1111\u001b[0m     \u001b[0;32melse\u001b[0m\u001b[0;34m:\u001b[0m\u001b[0;34m\u001b[0m\u001b[0m\n\u001b[1;32m   1112\u001b[0m       \u001b[0mresults\u001b[0m \u001b[0;34m=\u001b[0m \u001b[0;34m[\u001b[0m\u001b[0;34m]\u001b[0m\u001b[0;34m\u001b[0m\u001b[0m\n",
            "\u001b[0;32m/usr/local/lib/python3.6/dist-packages/tensorflow/python/client/session.py\u001b[0m in \u001b[0;36m_do_run\u001b[0;34m(self, handle, target_list, fetch_list, feed_dict, options, run_metadata)\u001b[0m\n\u001b[1;32m   1284\u001b[0m     \u001b[0;32mif\u001b[0m \u001b[0mhandle\u001b[0m \u001b[0;32mis\u001b[0m \u001b[0;32mNone\u001b[0m\u001b[0;34m:\u001b[0m\u001b[0;34m\u001b[0m\u001b[0m\n\u001b[1;32m   1285\u001b[0m       return self._do_call(_run_fn, feeds, fetches, targets, options,\n\u001b[0;32m-> 1286\u001b[0;31m                            run_metadata)\n\u001b[0m\u001b[1;32m   1287\u001b[0m     \u001b[0;32melse\u001b[0m\u001b[0;34m:\u001b[0m\u001b[0;34m\u001b[0m\u001b[0m\n\u001b[1;32m   1288\u001b[0m       \u001b[0;32mreturn\u001b[0m \u001b[0mself\u001b[0m\u001b[0;34m.\u001b[0m\u001b[0m_do_call\u001b[0m\u001b[0;34m(\u001b[0m\u001b[0m_prun_fn\u001b[0m\u001b[0;34m,\u001b[0m \u001b[0mhandle\u001b[0m\u001b[0;34m,\u001b[0m \u001b[0mfeeds\u001b[0m\u001b[0;34m,\u001b[0m \u001b[0mfetches\u001b[0m\u001b[0;34m)\u001b[0m\u001b[0;34m\u001b[0m\u001b[0m\n",
            "\u001b[0;32m/usr/local/lib/python3.6/dist-packages/tensorflow/python/client/session.py\u001b[0m in \u001b[0;36m_do_call\u001b[0;34m(self, fn, *args)\u001b[0m\n\u001b[1;32m   1306\u001b[0m           self._config.experimental.client_handles_error_formatting):\n\u001b[1;32m   1307\u001b[0m         \u001b[0mmessage\u001b[0m \u001b[0;34m=\u001b[0m \u001b[0merror_interpolation\u001b[0m\u001b[0;34m.\u001b[0m\u001b[0minterpolate\u001b[0m\u001b[0;34m(\u001b[0m\u001b[0mmessage\u001b[0m\u001b[0;34m,\u001b[0m \u001b[0mself\u001b[0m\u001b[0;34m.\u001b[0m\u001b[0m_graph\u001b[0m\u001b[0;34m)\u001b[0m\u001b[0;34m\u001b[0m\u001b[0m\n\u001b[0;32m-> 1308\u001b[0;31m       \u001b[0;32mraise\u001b[0m \u001b[0mtype\u001b[0m\u001b[0;34m(\u001b[0m\u001b[0me\u001b[0m\u001b[0;34m)\u001b[0m\u001b[0;34m(\u001b[0m\u001b[0mnode_def\u001b[0m\u001b[0;34m,\u001b[0m \u001b[0mop\u001b[0m\u001b[0;34m,\u001b[0m \u001b[0mmessage\u001b[0m\u001b[0;34m)\u001b[0m\u001b[0;34m\u001b[0m\u001b[0m\n\u001b[0m\u001b[1;32m   1309\u001b[0m \u001b[0;34m\u001b[0m\u001b[0m\n\u001b[1;32m   1310\u001b[0m   \u001b[0;32mdef\u001b[0m \u001b[0m_extend_graph\u001b[0m\u001b[0;34m(\u001b[0m\u001b[0mself\u001b[0m\u001b[0;34m)\u001b[0m\u001b[0;34m:\u001b[0m\u001b[0;34m\u001b[0m\u001b[0m\n",
            "\u001b[0;31mFailedPreconditionError\u001b[0m: Attempting to use uninitialized value var\n\t [[{{node _retval_var_0_0}} = _Retval[T=DT_FLOAT, index=0, _device=\"/job:localhost/replica:0/task:0/device:CPU:0\"](var)]]"
          ]
        }
      ]
    },
    {
      "metadata": {
        "id": "-GF8tazloU6a",
        "colab_type": "text"
      },
      "cell_type": "markdown",
      "source": [
        "Oh no! Got an Exception. TensorFlow is telling us that we can't use our Variable yet because we haven't told TensorFlow to initialize it. Initializing it means \"set the Variable's value to whatever the initial value is supposed to be\". Let's do that now."
      ]
    },
    {
      "metadata": {
        "id": "czwN-DH2ojaZ",
        "colab_type": "code",
        "colab": {
          "base_uri": "https://localhost:8080/",
          "height": 34
        },
        "outputId": "dffade7f-aa6e-4775-c190-087ecfcb5cbe"
      },
      "cell_type": "code",
      "source": [
        "# Simplest way to initialize all variables\n",
        "sess.run(tf.global_variables_initializer())\n",
        "print (sess.run(x))"
      ],
      "execution_count": 14,
      "outputs": [
        {
          "output_type": "stream",
          "text": [
            "1.2805845\n"
          ],
          "name": "stdout"
        }
      ]
    },
    {
      "metadata": {
        "id": "xTH6MStcopFY",
        "colab_type": "text"
      },
      "cell_type": "markdown",
      "source": [
        "So, that's the random value that TensorFlow chose for our Variable. Now, we can update the value of our Variable to set it to whatever we want, like so:"
      ]
    },
    {
      "metadata": {
        "id": "Uy9bE2Quoxw-",
        "colab_type": "code",
        "colab": {
          "base_uri": "https://localhost:8080/",
          "height": 34
        },
        "outputId": "dc6ec00d-84d9-4647-9a4d-e1d05f06fc64"
      },
      "cell_type": "code",
      "source": [
        "sess.run(tf.assign(x, 1.))\n",
        "print (sess.run(x))"
      ],
      "execution_count": 15,
      "outputs": [
        {
          "output_type": "stream",
          "text": [
            "1.0\n"
          ],
          "name": "stdout"
        }
      ]
    },
    {
      "metadata": {
        "id": "TqqPi2-JpFr-",
        "colab_type": "text"
      },
      "cell_type": "markdown",
      "source": [
        "We ran a TensorFlow op that says \"assign the value of 1 to the Variable referenced to by `x`\" and then we ran `x` to get the new value of the Variable. Cool.\n",
        "\n",
        "Now, let's try to do something useful. TensorFlow is designed to make it easy to do the kind of things that you'd do when training machine learning models. One of those things is gradient descent. TensorFlow implements gradient descent like so:\n",
        "1. Define your loss. This is a value that you want to decrease as you train your model.\n",
        "1. Define your model with some Variables.\n",
        "1. Iteratively run an optimizer which changes the values of the Variables to lower the loss.\n",
        "\n",
        "Let's try that with the Variable we made above. We're going to define a loss which is just how far away that variable is from 2, measured by mean squared error. We'll optimize the variable to minimize this loss, which means make it closer to 2."
      ]
    },
    {
      "metadata": {
        "id": "sJvBZU2FpOT9",
        "colab_type": "code",
        "colab": {
          "base_uri": "https://localhost:8080/",
          "height": 187
        },
        "outputId": "ebe93fa7-74c4-4f28-9b0b-c443d8a0e7bb"
      },
      "cell_type": "code",
      "source": [
        "# Define our target value\n",
        "target = 2.\n",
        "# Make a loss which measures how far away from the target x is\n",
        "loss = (x - target)**2\n",
        "# Create an optimizer\n",
        "optimizer = tf.train.GradientDescentOptimizer(learning_rate=0.1)\n",
        "# Get an operation that will run the optimizer\n",
        "train_op = optimizer.minimize(loss)\n",
        "# Run the train op a few times and look at what it does to x\n",
        "for iteration in range(10):\n",
        "  sess.run(train_op)\n",
        "  print (sess.run(x))"
      ],
      "execution_count": 16,
      "outputs": [
        {
          "output_type": "stream",
          "text": [
            "1.2\n",
            "1.36\n",
            "1.488\n",
            "1.5904\n",
            "1.67232\n",
            "1.737856\n",
            "1.7902849\n",
            "1.832228\n",
            "1.8657824\n",
            "1.8926259\n"
          ],
          "name": "stdout"
        }
      ]
    },
    {
      "metadata": {
        "id": "yWHoGv14qsXl",
        "colab_type": "text"
      },
      "cell_type": "markdown",
      "source": [
        "So, what just happened? The `tf.train.GradientDescentOptimizer` is a handy function which does the following: Given a loss and some Variables to modify, every time you run it it tries to change the variables to make the loss lower. It changes them by computing the *gradient*, or derivative, of the loss with respect to the variables. Then, it uses gradient descent to change the value of the variables to make the loss smaller. How much it changes the variables at each iteration depends on the learning rate you give it. As you can see, it made our Variable closer and closer to 2, just like we wanted."
      ]
    },
    {
      "metadata": {
        "id": "pJnLhTp6rLdV",
        "colab_type": "text"
      },
      "cell_type": "markdown",
      "source": [
        "### Assignment: Train a simple linear model\n",
        "For this homework, you'll combine everything you learned above to create a linear regression model. I'll give you some fake data first, and then there will be a code block where you'll be implementing your model. I've given you some hints as to how to combine the above into a model, you'll have to fill in the rest (everywhere there is a \"...\")."
      ]
    },
    {
      "metadata": {
        "id": "02XAMcX7rlw2",
        "colab_type": "code",
        "colab": {
          "base_uri": "https://localhost:8080/",
          "height": 296
        },
        "outputId": "3d7d8d91-c2d0-4e5f-cbee-f9f3bb752ce7"
      },
      "cell_type": "code",
      "source": [
        "# First, let's make our fake dataset.\n",
        "# The input will be 100 points equally spaced from 0 to 1.\n",
        "# The output will be 2*inputs + 1, plus some noise.\n",
        "# We're going to try to recover \"2\" and \"1\" with our linear model.\n",
        "inputs = np.linspace(0, 1, 100)\n",
        "outputs = 2*inputs + 1 + .1*np.random.standard_normal(100)\n",
        "\n",
        "plt.plot(inputs, outputs, '.')\n",
        "plt.xlabel('inputs')\n",
        "plt.ylabel('outputs')"
      ],
      "execution_count": 17,
      "outputs": [
        {
          "output_type": "execute_result",
          "data": {
            "text/plain": [
              "Text(0,0.5,'outputs')"
            ]
          },
          "metadata": {
            "tags": []
          },
          "execution_count": 17
        },
        {
          "output_type": "display_data",
          "data": {
            "image/png": "[encoded data removed]",
            "text/plain": [
              "<matplotlib.figure.Figure at 0x7feb257f6278>"
            ]
          },
          "metadata": {
            "tags": []
          }
        }
      ]
    },
    {
      "metadata": {
        "id": "k38Bm6eRsB8D",
        "colab_type": "code",
        "colab": {
          "base_uri": "https://localhost:8080/",
          "height": 520
        },
        "outputId": "6421c3ec-e703-4bf9-8671-c2f4980db50a"
      },
      "cell_type": "code",
      "source": [
        "# First things first, let's start a new graph and session.\n",
        "# Copy in the code from the first cell to restart the graph and create a session.\n",
        "tf.reset_default_graph()          #Lianne: This resets the TensorFlow graph\n",
        "sess = tf.InteractiveSession()    #Lianne: This starts an interactive session\n",
        "\n",
        "# Build our model. We're going to need two variables:\n",
        "# One for the weight, another for the bias.\n",
        "# You can create these variables just like we created the one above.\n",
        "# Note that you will have to give them different TensorFlow variable names!\n",
        "# You can't give multiple variables the same name in TensorFlow.\n",
        "\n",
        "w = tf.get_variable(name='weight', shape=(), dtype=tf.float32) #Lianne: create variable tensorflow, name, scalar and 32-bit float\n",
        "b = tf.get_variable(name='bias', shape=(), dtype=tf.float32)   #Lianne: create variable tensorflow, name, scalar and 32-bit float\n",
        "\n",
        "#sess.run(tf.global_variables_initializer())\n",
        "# Compute the predictions of the model.\n",
        "# Remember that we compute a linear model as w*x + b, \n",
        "# where w are the weights, x is the input, and b is the bias.\n",
        "predictions = w*inputs + b    #Lianne: predictions of a linear model y=mx + c; y=wx + b, my x is the inputs \n",
        "# Compute the loss function. You can use the squared-error loss from above.\n",
        "# One catch: Since you are going to be feeding in more than one point at a time,\n",
        "# you need to compute the average loss over all the points.\n",
        "# I've done that for you using tf.reduce_mean, which computes the mean.\n",
        "# You fill in the rest.\n",
        "# Lianne: RMSE = (raiz(1/m (y'-y)^2))!!!\n",
        "loss = tf.reduce_mean((predictions-outputs)**2)\n",
        "# Build your optimizer. You can re-use the code we used above.\n",
        "# You'll need to set the learning rate yourself.\n",
        "optimizer = tf.train.GradientDescentOptimizer(learning_rate=0.09)\n",
        "train_op = optimizer.minimize(loss)\n",
        "# Initialize your variables. Use the code I showed you above.\n",
        "#sess.run(train_op)\n",
        "sess.run(tf.global_variables_initializer())\n",
        "# Train the model! Fill in the loop.\n",
        "for iteration in range(1000):\n",
        "  # Write the code for running the train op below.\n",
        "  sess.run(train_op)\n",
        "  # Print out the loss every 100 iterations\n",
        "  if not iteration % 100:\n",
        "    print (sess.run(loss))\n",
        "  \n",
        "# After training, plot your model and the data. I've filled this in for you.\n",
        "plt.plot(inputs, outputs, '.')\n",
        "plt.plot(inputs, sess.run(w)*inputs + sess.run(b))\n",
        "plt.xlabel('inputs')\n",
        "plt.ylabel('outputs')\n",
        "plt.legend(['Data', 'Model'])"
      ],
      "execution_count": 48,
      "outputs": [
        {
          "output_type": "stream",
          "text": [
            "/usr/local/lib/python3.6/dist-packages/tensorflow/python/client/session.py:1662: UserWarning: An interactive session is already active. This can cause out-of-memory errors in some cases. You must explicitly call `InteractiveSession.close()` to release resources held by the other session(s).\n",
            "  warnings.warn('An interactive session is already active. This can '\n"
          ],
          "name": "stderr"
        },
        {
          "output_type": "stream",
          "text": [
            "0.485062\n",
            "0.02757209\n",
            "0.012857875\n",
            "0.011560504\n",
            "0.011446113\n",
            "0.0114360275\n",
            "0.011435135\n",
            "0.011435062\n",
            "0.011435052\n",
            "0.0114350505\n"
          ],
          "name": "stdout"
        },
        {
          "output_type": "execute_result",
          "data": {
            "text/plain": [
              "<matplotlib.legend.Legend at 0x7feb0e39b3c8>"
            ]
          },
          "metadata": {
            "tags": []
          },
          "execution_count": 48
        },
        {
          "output_type": "display_data",
          "data": {
            "image/png": "[encoded data removed]",
            "text/plain": [
              "<matplotlib.figure.Figure at 0x7feb0f5a46a0>"
            ]
          },
          "metadata": {
            "tags": []
          }
        }
      ]
    },
    {
      "metadata": {
        "id": "Wibzf43NtXef",
        "colab_type": "code",
        "colab": {
          "height": 532
        },
        "outputId": "a33866bc-c9e5-48e6-8acd-ad64214fc822"
      },
      "cell_type": "code",
      "source": [
        "################\n",
        "### SOLUTION ###\n",
        "################\n",
        "# (will not be visible to students)\n",
        "\n",
        "# First things first, let's start a new graph and session.\n",
        "# Copy in the code from the first cell to restart the graph and create a session.\n",
        "tf.reset_default_graph()\n",
        "sess = tf.InteractiveSession()\n",
        "\n",
        "# Build our model. We're going to need two variables:\n",
        "# One for the weight, another for the bias.\n",
        "# You can create these variables just like we created the one above.\n",
        "w = tf.get_variable('w', (), tf.float32)\n",
        "b = tf.get_variable('b', (), tf.float32)\n",
        "# Compute the predictions of the model.\n",
        "# Remember that we compute a linear model as w*x + b, \n",
        "# where w are the weights, x is the input, and b is the bias.\n",
        "predictions = w*inputs + b\n",
        "# Compute the loss function. You can use the squared-error loss from above.\n",
        "# One catch: Since you are going to be feeding in more than one point at a time,\n",
        "# you need to compute the average loss over all the points.\n",
        "# I've done that for you using tf.reduce_mean, which computes the mean.\n",
        "# You fill in the rest.\n",
        "loss = tf.reduce_mean((predictions - outputs)**2)\n",
        "# Build your optimizer. You can re-use the code we used above.\n",
        "# You'll need to set the learning rate yourself.\n",
        "optimizer = tf.train.GradientDescentOptimizer(0.1)\n",
        "train_op = optimizer.minimize(loss)\n",
        "# Initialize your variables. Use the code I showed you above.\n",
        "sess.run(tf.global_variables_initializer())\n",
        "\n",
        "\n",
        "# Train the model! Fill in the loop.\n",
        "for iteration in range(1000):\n",
        "  # Write the code for running the train op below.\n",
        "  sess.run(train_op)\n",
        "  # Print out the loss every 100 iterations\n",
        "  if not iteration % 100:\n",
        "    print sess.run(loss)\n",
        "  \n",
        "# After training, plot your model and the data. I've filled this in for you.\n",
        "plt.plot(inputs, outputs, '.')\n",
        "plt.plot(inputs, sess.run(w)*inputs + sess.run(b))\n",
        "plt.xlabel('inputs')\n",
        "plt.ylabel('outputs')"
      ],
      "execution_count": 0,
      "outputs": [
        {
          "output_type": "stream",
          "text": [
            "5.93853\n",
            "0.0430716\n",
            "0.013203\n",
            "0.0111959\n",
            "0.0110611\n",
            "0.011052\n",
            "0.0110514\n",
            "0.0110514\n",
            "0.0110514\n",
            "0.0110514\n"
          ],
          "name": "stdout"
        },
        {
          "output_type": "stream",
          "text": [
            "/export/hda3/borglet/remote_hdd_fs_dirs/0.colab_kernel_pool_tensorflow_26.kernel.colaboratory-playground.154008242435.14b334fb3717c109/mount/server/rl_colab.par/google3/third_party/tensorflow/python/client/session.py:1661: UserWarning: An interactive session is already active. This can cause out-of-memory errors in some cases. You must explicitly call `InteractiveSession.close()` to release resources held by the other session(s).\n",
            "  warnings.warn('An interactive session is already active. This can '\n"
          ],
          "name": "stderr"
        },
        {
          "output_type": "execute_result",
          "data": {
            "text/plain": [
              "<matplotlib.text.Text at 0x7f76d9357dd0>"
            ]
          },
          "metadata": {
            "tags": []
          },
          "execution_count": 15
        },
        {
          "output_type": "display_data",
          "data": {
            "image/png": "[encoded data removed]",
            "text/plain": [
              "<matplotlib.figure.Figure at 0x7f76d9da4d90>"
            ]
          },
          "metadata": {
            "tags": []
          }
        }
      ]
    }
  ]
}